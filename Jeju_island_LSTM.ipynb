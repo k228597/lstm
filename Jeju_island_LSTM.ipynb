{
  "cells": [
    {
      "cell_type": "markdown",
      "metadata": {
        "id": "view-in-github",
        "colab_type": "text"
      },
      "source": [
        "<a href=\"https://colab.research.google.com/github/k228597/lstm/blob/main/Jeju_island_LSTM.ipynb\" target=\"_parent\"><img src=\"https://colab.research.google.com/assets/colab-badge.svg\" alt=\"Open In Colab\"/></a>"
      ]
    },
    {
      "cell_type": "code",
      "execution_count": null,
      "metadata": {
        "id": "choice-wells"
      },
      "outputs": [],
      "source": [
        "# Import\n",
        "import pandas as pd\n",
        "import numpy as np\n",
        "import matplotlib.pyplot as plt\n",
        "from datetime import date, datetime, timedelta\n",
        "\n",
        "import tensorflow as tf\n",
        "from tensorflow.keras.layers import Embedding, Dense, LSTM, RepeatVector, TimeDistributed\n",
        "from tensorflow.keras.losses import MeanAbsoluteError, MeanSquaredError\n",
        "from tensorflow.keras.models import Sequential\n",
        "from tensorflow.keras.optimizers import Adam\n",
        "from tensorflow.keras.preprocessing.sequence import pad_sequences\n",
        "\n",
        "from sklearn.preprocessing import MinMaxScaler\n",
        "from sklearn.metrics import mean_squared_error\n",
        "from function_model import series_to_supervised"
      ],
      "id": "choice-wells"
    },
    {
      "cell_type": "code",
      "execution_count": null,
      "metadata": {
        "id": "located-claim"
      },
      "outputs": [],
      "source": [
        "df = pd.read_csv(\"/content/jeju1.csv\", index_col=0, parse_dates=True, dayfirst=True)\n",
        "df.index.freq = 'D'"
      ],
      "id": "located-claim"
    },
    {
      "cell_type": "code",
      "execution_count": null,
      "metadata": {
        "colab": {
          "base_uri": "https://localhost:8080/"
        },
        "id": "breathing-whale",
        "outputId": "05909ce1-349a-4b87-c1ae-7001ecd1106a"
      },
      "outputs": [
        {
          "output_type": "stream",
          "name": "stdout",
          "text": [
            "Index(['Rainfall_JH gyorae1', 'Depth_to_JH gyorae1', 'Depth_to_JH gyorae1.1',\n",
            "       'Temperature_JH gyorae1', 'Temperature_JH gyorae1.1',\n",
            "       'Volume_C10_JH gyorae1', 'Hydrometry_Fiume_JH gyorae1'],\n",
            "      dtype='object')\n"
          ]
        }
      ],
      "source": [
        "print(df.columns)\n",
        "columns = ['Rf_BU', 'DtG_P24', 'DtG_P25', 'T_BU', 'T_Pe', 'V_Pe', 'H_FCP']\n",
        "columns_dict = {'Rf_BU' : 'Rainfall - \\n JH gyorae1 \\n [mm]', 'DtG_P24' : 'Depth to \\n Groundwater \\n (P24) [m]', 'DtG_P25' : 'Depth to \\n Groundwater \\n (P25) [m]',\n",
        "                'T_BU' : 'Temperature - \\n JH gyorae1 \\n [mm]', 'T_Pe' : 'Temperature - \\n Petrignano [mm]', 'V_Pe' : 'Drainage [m3]', 'H_FCP' : 'Hydrometry [m]'}\n",
        "df.columns = columns"
      ],
      "id": "breathing-whale"
    },
    {
      "cell_type": "code",
      "execution_count": null,
      "metadata": {
        "id": "satellite-premiere"
      },
      "outputs": [],
      "source": [
        "df_LSTM = df.copy()\n",
        "\n",
        "df_LSTM['T_Pe'] = np.where(((df['T_Pe'] == 0) & (df['T_Pe'].shift(1) == 0)) | (df['T_Pe'].diff(-1) > 10) | ((df['T_Pe'] == 0) & (df['T_Pe'].shift(-1) == 0)), np.nan, df['T_Pe'])\n",
        "df_LSTM['V_Pe'] = np.where(df['V_Pe'] == 0, np.nan, df['V_Pe'])\n",
        "df_LSTM['H_FCP'] = np.where(df['H_FCP'] == 0, np.nan, df['H_FCP'])\n",
        "df_LSTM['T_Pe'] = df['T_Pe'].fillna(df['T_BU'])\n",
        "\n",
        "df_LSTM['V_Pe'] = df_LSTM['V_Pe'].interpolate()\n",
        "df_LSTM['H_FCP'] = df_LSTM['H_FCP'].interpolate()\n",
        "df_LSTM['DtG_P25'] = df_LSTM['DtG_P25'].interpolate()\n",
        "df_LSTM['DtG_P24'] = df_LSTM['DtG_P24'].interpolate()\n",
        "\n",
        "#col_mean = ['DtG_P25', 'V_Pe', 'H_FCP', 'T_BU']\n",
        "#col_sum = ['Rf_BU']\n",
        "#df_LSTM_weekly = df_LSTM[col_mean].resample('W').mean()\n",
        "#df_LSTM_weekly['Rf_BU'] = df_LSTM[col_sum].resample('W').sum()\n",
        "cols = ['DtG_P25', 'V_Pe', 'H_FCP', 'T_BU', 'Rf_BU']\n",
        "df_LSTM = df_LSTM.loc['2009':]\n",
        "df_LSTM = df_LSTM[cols]\n"
      ],
      "id": "satellite-premiere"
    },
    {
      "cell_type": "code",
      "execution_count": null,
      "metadata": {
        "colab": {
          "base_uri": "https://localhost:8080/",
          "height": 455
        },
        "id": "hydraulic-steel",
        "outputId": "38f1a68d-7df3-422c-c6ea-797061935867"
      },
      "outputs": [
        {
          "output_type": "execute_result",
          "data": {
            "text/plain": [
              "            DtG_P25       V_Pe  H_FCP  T_BU  Rf_BU\n",
              "Date                                              \n",
              "2009-01-01    31.14  24530.688    2.4   5.2    0.0\n",
              "2009-01-02    31.11  28785.888    2.5   2.3    0.0\n",
              "2009-01-03    31.07  25766.208    2.4   4.4    0.0\n",
              "2009-01-04    31.05  27919.296    2.4   0.8    0.0\n",
              "2009-01-05    31.01  29854.656    2.3   1.9    0.0\n",
              "...             ...        ...    ...   ...    ...\n",
              "2020-06-26    25.07  29930.688    2.5  25.7    0.0\n",
              "2020-06-27    25.11  31332.960    2.4  26.2    0.0\n",
              "2020-06-28    25.19  32120.928    2.4  26.9    0.0\n",
              "2020-06-29    25.18  30602.880    2.4  26.9    0.0\n",
              "2020-06-30    25.25  31878.144    2.4  27.3    0.0\n",
              "\n",
              "[4199 rows x 5 columns]"
            ],
            "text/html": [
              "\n",
              "  <div id=\"df-f032b9e0-b949-46f5-bb71-08072ccddd12\" class=\"colab-df-container\">\n",
              "    <div>\n",
              "<style scoped>\n",
              "    .dataframe tbody tr th:only-of-type {\n",
              "        vertical-align: middle;\n",
              "    }\n",
              "\n",
              "    .dataframe tbody tr th {\n",
              "        vertical-align: top;\n",
              "    }\n",
              "\n",
              "    .dataframe thead th {\n",
              "        text-align: right;\n",
              "    }\n",
              "</style>\n",
              "<table border=\"1\" class=\"dataframe\">\n",
              "  <thead>\n",
              "    <tr style=\"text-align: right;\">\n",
              "      <th></th>\n",
              "      <th>DtG_P25</th>\n",
              "      <th>V_Pe</th>\n",
              "      <th>H_FCP</th>\n",
              "      <th>T_BU</th>\n",
              "      <th>Rf_BU</th>\n",
              "    </tr>\n",
              "    <tr>\n",
              "      <th>Date</th>\n",
              "      <th></th>\n",
              "      <th></th>\n",
              "      <th></th>\n",
              "      <th></th>\n",
              "      <th></th>\n",
              "    </tr>\n",
              "  </thead>\n",
              "  <tbody>\n",
              "    <tr>\n",
              "      <th>2009-01-01</th>\n",
              "      <td>31.14</td>\n",
              "      <td>24530.688</td>\n",
              "      <td>2.4</td>\n",
              "      <td>5.2</td>\n",
              "      <td>0.0</td>\n",
              "    </tr>\n",
              "    <tr>\n",
              "      <th>2009-01-02</th>\n",
              "      <td>31.11</td>\n",
              "      <td>28785.888</td>\n",
              "      <td>2.5</td>\n",
              "      <td>2.3</td>\n",
              "      <td>0.0</td>\n",
              "    </tr>\n",
              "    <tr>\n",
              "      <th>2009-01-03</th>\n",
              "      <td>31.07</td>\n",
              "      <td>25766.208</td>\n",
              "      <td>2.4</td>\n",
              "      <td>4.4</td>\n",
              "      <td>0.0</td>\n",
              "    </tr>\n",
              "    <tr>\n",
              "      <th>2009-01-04</th>\n",
              "      <td>31.05</td>\n",
              "      <td>27919.296</td>\n",
              "      <td>2.4</td>\n",
              "      <td>0.8</td>\n",
              "      <td>0.0</td>\n",
              "    </tr>\n",
              "    <tr>\n",
              "      <th>2009-01-05</th>\n",
              "      <td>31.01</td>\n",
              "      <td>29854.656</td>\n",
              "      <td>2.3</td>\n",
              "      <td>1.9</td>\n",
              "      <td>0.0</td>\n",
              "    </tr>\n",
              "    <tr>\n",
              "      <th>...</th>\n",
              "      <td>...</td>\n",
              "      <td>...</td>\n",
              "      <td>...</td>\n",
              "      <td>...</td>\n",
              "      <td>...</td>\n",
              "    </tr>\n",
              "    <tr>\n",
              "      <th>2020-06-26</th>\n",
              "      <td>25.07</td>\n",
              "      <td>29930.688</td>\n",
              "      <td>2.5</td>\n",
              "      <td>25.7</td>\n",
              "      <td>0.0</td>\n",
              "    </tr>\n",
              "    <tr>\n",
              "      <th>2020-06-27</th>\n",
              "      <td>25.11</td>\n",
              "      <td>31332.960</td>\n",
              "      <td>2.4</td>\n",
              "      <td>26.2</td>\n",
              "      <td>0.0</td>\n",
              "    </tr>\n",
              "    <tr>\n",
              "      <th>2020-06-28</th>\n",
              "      <td>25.19</td>\n",
              "      <td>32120.928</td>\n",
              "      <td>2.4</td>\n",
              "      <td>26.9</td>\n",
              "      <td>0.0</td>\n",
              "    </tr>\n",
              "    <tr>\n",
              "      <th>2020-06-29</th>\n",
              "      <td>25.18</td>\n",
              "      <td>30602.880</td>\n",
              "      <td>2.4</td>\n",
              "      <td>26.9</td>\n",
              "      <td>0.0</td>\n",
              "    </tr>\n",
              "    <tr>\n",
              "      <th>2020-06-30</th>\n",
              "      <td>25.25</td>\n",
              "      <td>31878.144</td>\n",
              "      <td>2.4</td>\n",
              "      <td>27.3</td>\n",
              "      <td>0.0</td>\n",
              "    </tr>\n",
              "  </tbody>\n",
              "</table>\n",
              "<p>4199 rows × 5 columns</p>\n",
              "</div>\n",
              "    <div class=\"colab-df-buttons\">\n",
              "\n",
              "  <div class=\"colab-df-container\">\n",
              "    <button class=\"colab-df-convert\" onclick=\"convertToInteractive('df-f032b9e0-b949-46f5-bb71-08072ccddd12')\"\n",
              "            title=\"Convert this dataframe to an interactive table.\"\n",
              "            style=\"display:none;\">\n",
              "\n",
              "  <svg xmlns=\"http://www.w3.org/2000/svg\" height=\"24px\" viewBox=\"0 -960 960 960\">\n",
              "    <path d=\"M120-120v-720h720v720H120Zm60-500h600v-160H180v160Zm220 220h160v-160H400v160Zm0 220h160v-160H400v160ZM180-400h160v-160H180v160Zm440 0h160v-160H620v160ZM180-180h160v-160H180v160Zm440 0h160v-160H620v160Z\"/>\n",
              "  </svg>\n",
              "    </button>\n",
              "\n",
              "  <style>\n",
              "    .colab-df-container {\n",
              "      display:flex;\n",
              "      gap: 12px;\n",
              "    }\n",
              "\n",
              "    .colab-df-convert {\n",
              "      background-color: #E8F0FE;\n",
              "      border: none;\n",
              "      border-radius: 50%;\n",
              "      cursor: pointer;\n",
              "      display: none;\n",
              "      fill: #1967D2;\n",
              "      height: 32px;\n",
              "      padding: 0 0 0 0;\n",
              "      width: 32px;\n",
              "    }\n",
              "\n",
              "    .colab-df-convert:hover {\n",
              "      background-color: #E2EBFA;\n",
              "      box-shadow: 0px 1px 2px rgba(60, 64, 67, 0.3), 0px 1px 3px 1px rgba(60, 64, 67, 0.15);\n",
              "      fill: #174EA6;\n",
              "    }\n",
              "\n",
              "    .colab-df-buttons div {\n",
              "      margin-bottom: 4px;\n",
              "    }\n",
              "\n",
              "    [theme=dark] .colab-df-convert {\n",
              "      background-color: #3B4455;\n",
              "      fill: #D2E3FC;\n",
              "    }\n",
              "\n",
              "    [theme=dark] .colab-df-convert:hover {\n",
              "      background-color: #434B5C;\n",
              "      box-shadow: 0px 1px 3px 1px rgba(0, 0, 0, 0.15);\n",
              "      filter: drop-shadow(0px 1px 2px rgba(0, 0, 0, 0.3));\n",
              "      fill: #FFFFFF;\n",
              "    }\n",
              "  </style>\n",
              "\n",
              "    <script>\n",
              "      const buttonEl =\n",
              "        document.querySelector('#df-f032b9e0-b949-46f5-bb71-08072ccddd12 button.colab-df-convert');\n",
              "      buttonEl.style.display =\n",
              "        google.colab.kernel.accessAllowed ? 'block' : 'none';\n",
              "\n",
              "      async function convertToInteractive(key) {\n",
              "        const element = document.querySelector('#df-f032b9e0-b949-46f5-bb71-08072ccddd12');\n",
              "        const dataTable =\n",
              "          await google.colab.kernel.invokeFunction('convertToInteractive',\n",
              "                                                    [key], {});\n",
              "        if (!dataTable) return;\n",
              "\n",
              "        const docLinkHtml = 'Like what you see? Visit the ' +\n",
              "          '<a target=\"_blank\" href=https://colab.research.google.com/notebooks/data_table.ipynb>data table notebook</a>'\n",
              "          + ' to learn more about interactive tables.';\n",
              "        element.innerHTML = '';\n",
              "        dataTable['output_type'] = 'display_data';\n",
              "        await google.colab.output.renderOutput(dataTable, element);\n",
              "        const docLink = document.createElement('div');\n",
              "        docLink.innerHTML = docLinkHtml;\n",
              "        element.appendChild(docLink);\n",
              "      }\n",
              "    </script>\n",
              "  </div>\n",
              "\n",
              "\n",
              "<div id=\"df-61f67cdf-1b22-4e40-af02-4951a46d78a1\">\n",
              "  <button class=\"colab-df-quickchart\" onclick=\"quickchart('df-61f67cdf-1b22-4e40-af02-4951a46d78a1')\"\n",
              "            title=\"Suggest charts\"\n",
              "            style=\"display:none;\">\n",
              "\n",
              "<svg xmlns=\"http://www.w3.org/2000/svg\" height=\"24px\"viewBox=\"0 0 24 24\"\n",
              "     width=\"24px\">\n",
              "    <g>\n",
              "        <path d=\"M19 3H5c-1.1 0-2 .9-2 2v14c0 1.1.9 2 2 2h14c1.1 0 2-.9 2-2V5c0-1.1-.9-2-2-2zM9 17H7v-7h2v7zm4 0h-2V7h2v10zm4 0h-2v-4h2v4z\"/>\n",
              "    </g>\n",
              "</svg>\n",
              "  </button>\n",
              "\n",
              "<style>\n",
              "  .colab-df-quickchart {\n",
              "      --bg-color: #E8F0FE;\n",
              "      --fill-color: #1967D2;\n",
              "      --hover-bg-color: #E2EBFA;\n",
              "      --hover-fill-color: #174EA6;\n",
              "      --disabled-fill-color: #AAA;\n",
              "      --disabled-bg-color: #DDD;\n",
              "  }\n",
              "\n",
              "  [theme=dark] .colab-df-quickchart {\n",
              "      --bg-color: #3B4455;\n",
              "      --fill-color: #D2E3FC;\n",
              "      --hover-bg-color: #434B5C;\n",
              "      --hover-fill-color: #FFFFFF;\n",
              "      --disabled-bg-color: #3B4455;\n",
              "      --disabled-fill-color: #666;\n",
              "  }\n",
              "\n",
              "  .colab-df-quickchart {\n",
              "    background-color: var(--bg-color);\n",
              "    border: none;\n",
              "    border-radius: 50%;\n",
              "    cursor: pointer;\n",
              "    display: none;\n",
              "    fill: var(--fill-color);\n",
              "    height: 32px;\n",
              "    padding: 0;\n",
              "    width: 32px;\n",
              "  }\n",
              "\n",
              "  .colab-df-quickchart:hover {\n",
              "    background-color: var(--hover-bg-color);\n",
              "    box-shadow: 0 1px 2px rgba(60, 64, 67, 0.3), 0 1px 3px 1px rgba(60, 64, 67, 0.15);\n",
              "    fill: var(--button-hover-fill-color);\n",
              "  }\n",
              "\n",
              "  .colab-df-quickchart-complete:disabled,\n",
              "  .colab-df-quickchart-complete:disabled:hover {\n",
              "    background-color: var(--disabled-bg-color);\n",
              "    fill: var(--disabled-fill-color);\n",
              "    box-shadow: none;\n",
              "  }\n",
              "\n",
              "  .colab-df-spinner {\n",
              "    border: 2px solid var(--fill-color);\n",
              "    border-color: transparent;\n",
              "    border-bottom-color: var(--fill-color);\n",
              "    animation:\n",
              "      spin 1s steps(1) infinite;\n",
              "  }\n",
              "\n",
              "  @keyframes spin {\n",
              "    0% {\n",
              "      border-color: transparent;\n",
              "      border-bottom-color: var(--fill-color);\n",
              "      border-left-color: var(--fill-color);\n",
              "    }\n",
              "    20% {\n",
              "      border-color: transparent;\n",
              "      border-left-color: var(--fill-color);\n",
              "      border-top-color: var(--fill-color);\n",
              "    }\n",
              "    30% {\n",
              "      border-color: transparent;\n",
              "      border-left-color: var(--fill-color);\n",
              "      border-top-color: var(--fill-color);\n",
              "      border-right-color: var(--fill-color);\n",
              "    }\n",
              "    40% {\n",
              "      border-color: transparent;\n",
              "      border-right-color: var(--fill-color);\n",
              "      border-top-color: var(--fill-color);\n",
              "    }\n",
              "    60% {\n",
              "      border-color: transparent;\n",
              "      border-right-color: var(--fill-color);\n",
              "    }\n",
              "    80% {\n",
              "      border-color: transparent;\n",
              "      border-right-color: var(--fill-color);\n",
              "      border-bottom-color: var(--fill-color);\n",
              "    }\n",
              "    90% {\n",
              "      border-color: transparent;\n",
              "      border-bottom-color: var(--fill-color);\n",
              "    }\n",
              "  }\n",
              "</style>\n",
              "\n",
              "  <script>\n",
              "    async function quickchart(key) {\n",
              "      const quickchartButtonEl =\n",
              "        document.querySelector('#' + key + ' button');\n",
              "      quickchartButtonEl.disabled = true;  // To prevent multiple clicks.\n",
              "      quickchartButtonEl.classList.add('colab-df-spinner');\n",
              "      try {\n",
              "        const charts = await google.colab.kernel.invokeFunction(\n",
              "            'suggestCharts', [key], {});\n",
              "      } catch (error) {\n",
              "        console.error('Error during call to suggestCharts:', error);\n",
              "      }\n",
              "      quickchartButtonEl.classList.remove('colab-df-spinner');\n",
              "      quickchartButtonEl.classList.add('colab-df-quickchart-complete');\n",
              "    }\n",
              "    (() => {\n",
              "      let quickchartButtonEl =\n",
              "        document.querySelector('#df-61f67cdf-1b22-4e40-af02-4951a46d78a1 button');\n",
              "      quickchartButtonEl.style.display =\n",
              "        google.colab.kernel.accessAllowed ? 'block' : 'none';\n",
              "    })();\n",
              "  </script>\n",
              "</div>\n",
              "\n",
              "  <div id=\"id_303bfa19-c1f9-4d0f-9ac5-bfa171a1a5f3\">\n",
              "    <style>\n",
              "      .colab-df-generate {\n",
              "        background-color: #E8F0FE;\n",
              "        border: none;\n",
              "        border-radius: 50%;\n",
              "        cursor: pointer;\n",
              "        display: none;\n",
              "        fill: #1967D2;\n",
              "        height: 32px;\n",
              "        padding: 0 0 0 0;\n",
              "        width: 32px;\n",
              "      }\n",
              "\n",
              "      .colab-df-generate:hover {\n",
              "        background-color: #E2EBFA;\n",
              "        box-shadow: 0px 1px 2px rgba(60, 64, 67, 0.3), 0px 1px 3px 1px rgba(60, 64, 67, 0.15);\n",
              "        fill: #174EA6;\n",
              "      }\n",
              "\n",
              "      [theme=dark] .colab-df-generate {\n",
              "        background-color: #3B4455;\n",
              "        fill: #D2E3FC;\n",
              "      }\n",
              "\n",
              "      [theme=dark] .colab-df-generate:hover {\n",
              "        background-color: #434B5C;\n",
              "        box-shadow: 0px 1px 3px 1px rgba(0, 0, 0, 0.15);\n",
              "        filter: drop-shadow(0px 1px 2px rgba(0, 0, 0, 0.3));\n",
              "        fill: #FFFFFF;\n",
              "      }\n",
              "    </style>\n",
              "    <button class=\"colab-df-generate\" onclick=\"generateWithVariable('df_LSTM')\"\n",
              "            title=\"Generate code using this dataframe.\"\n",
              "            style=\"display:none;\">\n",
              "\n",
              "  <svg xmlns=\"http://www.w3.org/2000/svg\" height=\"24px\"viewBox=\"0 0 24 24\"\n",
              "       width=\"24px\">\n",
              "    <path d=\"M7,19H8.4L18.45,9,17,7.55,7,17.6ZM5,21V16.75L18.45,3.32a2,2,0,0,1,2.83,0l1.4,1.43a1.91,1.91,0,0,1,.58,1.4,1.91,1.91,0,0,1-.58,1.4L9.25,21ZM18.45,9,17,7.55Zm-12,3A5.31,5.31,0,0,0,4.9,8.1,5.31,5.31,0,0,0,1,6.5,5.31,5.31,0,0,0,4.9,4.9,5.31,5.31,0,0,0,6.5,1,5.31,5.31,0,0,0,8.1,4.9,5.31,5.31,0,0,0,12,6.5,5.46,5.46,0,0,0,6.5,12Z\"/>\n",
              "  </svg>\n",
              "    </button>\n",
              "    <script>\n",
              "      (() => {\n",
              "      const buttonEl =\n",
              "        document.querySelector('#id_303bfa19-c1f9-4d0f-9ac5-bfa171a1a5f3 button.colab-df-generate');\n",
              "      buttonEl.style.display =\n",
              "        google.colab.kernel.accessAllowed ? 'block' : 'none';\n",
              "\n",
              "      buttonEl.onclick = () => {\n",
              "        google.colab.notebook.generateWithVariable('df_LSTM');\n",
              "      }\n",
              "      })();\n",
              "    </script>\n",
              "  </div>\n",
              "\n",
              "    </div>\n",
              "  </div>\n"
            ]
          },
          "metadata": {},
          "execution_count": 96
        }
      ],
      "source": [
        "df_LSTM"
      ],
      "id": "hydraulic-steel"
    },
    {
      "cell_type": "code",
      "execution_count": null,
      "metadata": {
        "id": "endless-puzzle"
      },
      "outputs": [],
      "source": [
        "def split_dataset(data):\n",
        "    # split into standard weeks\n",
        "    train, test = data[29:-120], data[-120:]\n",
        "    # restructure into windows of weekly data\n",
        "    train = np.array(np.split(train, len(train)/30))\n",
        "    test = np.array(np.split(test, len(test)/30))\n",
        "    return train, test"
      ],
      "id": "endless-puzzle"
    },
    {
      "cell_type": "code",
      "execution_count": null,
      "metadata": {
        "id": "documented-society"
      },
      "outputs": [],
      "source": [
        "# convert history into inputs and outputs\n",
        "def to_supervised_uni(train, n_input, n_out=30):\n",
        "    # flatten data\n",
        "    data = train.reshape((train.shape[0]*train.shape[1], train.shape[2]))\n",
        "    X, y = list(), list()\n",
        "    in_start = 0\n",
        "    # step over the entire history one time step at a time\n",
        "    for _ in range(len(data)):\n",
        "    # define the end of the input sequence\n",
        "        in_end = in_start + n_input\n",
        "        out_end = in_end + n_out\n",
        "        # ensure we have enough data for this instance\n",
        "        if out_end <= len(data):\n",
        "            x_input = data[in_start:in_end, 0]\n",
        "            x_input = x_input.reshape((len(x_input), 1))\n",
        "            X.append(x_input)\n",
        "            y.append(data[in_end:out_end, 0])\n",
        "            # move along one time step\n",
        "            in_start += 1\n",
        "    return np.array(X), np.array(y)"
      ],
      "id": "documented-society"
    },
    {
      "cell_type": "code",
      "execution_count": null,
      "metadata": {
        "id": "norwegian-bumper"
      },
      "outputs": [],
      "source": [
        "# convert history into inputs and outputs\n",
        "def to_supervised_multi(train, n_input, n_out=30):\n",
        "    # flatten data\n",
        "    data = train.reshape((train.shape[0]*train.shape[1], train.shape[2]))\n",
        "    X, y = list(), list()\n",
        "    in_start = 0\n",
        "    # step over the entire history one time step at a time\n",
        "    for _ in range(len(data)):\n",
        "    # define the end of the input sequence\n",
        "        in_end = in_start + n_input\n",
        "        out_end = in_end + n_out\n",
        "        # ensure we have enough data for this instance\n",
        "        if out_end <= len(data):\n",
        "            #x_input = data[in_start:in_end, 0]\n",
        "            #x_input = x_input.reshape((len(x_input), 1))\n",
        "            #X.append(x_input)\n",
        "            X.append(data[in_start:in_end, :])\n",
        "            y.append(data[in_end:out_end, 0])\n",
        "            # move along one time step\n",
        "            in_start += 1\n",
        "    return np.array(X), np.array(y)"
      ],
      "id": "norwegian-bumper"
    },
    {
      "cell_type": "code",
      "execution_count": null,
      "metadata": {
        "id": "automatic-roller"
      },
      "outputs": [],
      "source": [
        "# evaluate one or more weekly forecasts against expected values\n",
        "def evaluate_forecasts(actual, predicted):\n",
        "    scores = list()\n",
        "    # calculate an RMSE score for each day\n",
        "    for i in range(actual.shape[1]):\n",
        "        # calculate mse\n",
        "        mse = mean_squared_error(actual[:, i], predicted[:, i])\n",
        "        # calculate rmse\n",
        "        rmse = np.sqrt(mse)\n",
        "        # store\n",
        "        scores.append(rmse)\n",
        "    # calculate overall RMSE\n",
        "    s = 0\n",
        "    for row in range(actual.shape[0]):\n",
        "        for col in range(actual.shape[1]):\n",
        "            s += (actual[row, col] - predicted[row, col])**2\n",
        "    score = np.sqrt(s / (actual.shape[0] * actual.shape[1]))\n",
        "    return score, scores"
      ],
      "id": "automatic-roller"
    },
    {
      "cell_type": "code",
      "execution_count": null,
      "metadata": {
        "id": "martial-appraisal"
      },
      "outputs": [],
      "source": [
        "# summarize scores\n",
        "def summarize_scores(name, score, scores):\n",
        "    s_scores = ', '.join(['%.1f' % s for s in scores])\n",
        "    print('%s: [%.3f] %s' % (name, score, s_scores))"
      ],
      "id": "martial-appraisal"
    },
    {
      "cell_type": "code",
      "execution_count": null,
      "metadata": {
        "id": "chief-cliff"
      },
      "outputs": [],
      "source": [
        "# train the model\n",
        "def build_model_uni(train, n_input):\n",
        "    # prepare data\n",
        "    train_x, train_y = to_supervised_uni(train, n_input)\n",
        "    # define parameters\n",
        "    verbose, epochs, batch_size = 1, 20, 16\n",
        "    n_timesteps, n_features, n_outputs = train_x.shape[1], train_x.shape[2], train_y.shape[1]\n",
        "    # define model\n",
        "    model = Sequential()\n",
        "    model.add(LSTM(100, activation='relu', input_shape=(n_timesteps, n_features)))\n",
        "    model.add(Dense(40, activation='relu'))\n",
        "    model.add(Dense(n_outputs))\n",
        "    model.compile(loss='mse', optimizer='adam')\n",
        "    # fit network\n",
        "    model.fit(train_x, train_y, epochs=epochs, batch_size=batch_size, verbose=verbose)\n",
        "    return model"
      ],
      "id": "chief-cliff"
    },
    {
      "cell_type": "code",
      "execution_count": null,
      "metadata": {
        "id": "preceding-korean"
      },
      "outputs": [],
      "source": [
        "# train the model\n",
        "def build_model_multi(train, n_input):\n",
        "    # prepare data\n",
        "    train_x, train_y = to_supervised_multi(train, n_input)\n",
        "    # define parameters\n",
        "    verbose, epochs, batch_size = 1, 20, 16\n",
        "    n_timesteps, n_features, n_outputs = train_x.shape[1], train_x.shape[2], train_y.shape[1]\n",
        "    # define model\n",
        "    model = Sequential()\n",
        "    model.add(LSTM(100, activation='relu', input_shape=(n_timesteps, n_features)))\n",
        "    model.add(Dense(40, activation='relu'))\n",
        "    model.add(Dense(n_outputs))\n",
        "    model.compile(loss='mse', optimizer='adam')\n",
        "    # fit network\n",
        "    model.fit(train_x, train_y, epochs=epochs, batch_size=batch_size, verbose=verbose)\n",
        "    return model"
      ],
      "id": "preceding-korean"
    },
    {
      "cell_type": "code",
      "execution_count": null,
      "metadata": {
        "id": "comparative-bibliography"
      },
      "outputs": [],
      "source": [
        "# train the model\n",
        "def build_model_encdec(train, n_input):\n",
        "    # prepare data\n",
        "    train_x, train_y = to_supervised_multi(train, n_input)\n",
        "    # reshape output into [samples, timesteps, features]\n",
        "    train_y = train_y.reshape(train_y.shape[0], train_y.shape[1], 1)\n",
        "    # define parameters\n",
        "    verbose, epochs, batch_size = 1, 20, 16\n",
        "    n_timesteps, n_features, n_outputs = train_x.shape[1], train_x.shape[2], train_y.shape[1]\n",
        "    # define model\n",
        "    model = Sequential()\n",
        "    model.add(LSTM(25, activation='relu', input_shape=(n_timesteps, n_features)))\n",
        "    model.add(RepeatVector(n_outputs))\n",
        "    model.add(LSTM(25, activation='relu', return_sequences=True))\n",
        "    model.add(TimeDistributed(Dense(10, activation='relu')))\n",
        "    #model.add(Dense(40, activation='relu'))\n",
        "    #model.add(Dense(n_outputs))\n",
        "    model.add(TimeDistributed(Dense(1)))\n",
        "    model.compile(loss='mse', optimizer='adam')\n",
        "    # fit network\n",
        "    model.fit(train_x, train_y, epochs=epochs, batch_size=batch_size, verbose=verbose)\n",
        "    return model"
      ],
      "id": "comparative-bibliography"
    },
    {
      "cell_type": "code",
      "execution_count": null,
      "metadata": {
        "id": "tired-edwards"
      },
      "outputs": [],
      "source": [
        "# make a forecast\n",
        "def forecast_uni(model, history, n_input):\n",
        "    # flatten data\n",
        "    data = np.array(history)\n",
        "    data = data.reshape((data.shape[0]*data.shape[1], data.shape[2]))\n",
        "    # retrieve last observations for input data\n",
        "    input_x = data[-n_input:, 0]\n",
        "    # reshape into [1, n_input, 1]\n",
        "    input_x = input_x.reshape((1, len(input_x), 1))\n",
        "    # forecast the next week\n",
        "    yhat = model.predict(input_x, verbose=0)\n",
        "    # we only want the vector forecast\n",
        "    yhat = yhat[0]\n",
        "    return yhat"
      ],
      "id": "tired-edwards"
    },
    {
      "cell_type": "code",
      "execution_count": null,
      "metadata": {
        "id": "matched-committee"
      },
      "outputs": [],
      "source": [
        "# make a forecast\n",
        "def forecast_multi(model, history, n_input):\n",
        "    # flatten data\n",
        "    data = np.array(history)\n",
        "    data = data.reshape((data.shape[0]*data.shape[1], data.shape[2]))\n",
        "    # retrieve last observations for input data\n",
        "    input_x = data[-n_input:, :]\n",
        "    # reshape into [1, n_input, 1]\n",
        "    input_x = input_x.reshape((1, input_x.shape[0], input_x.shape[1]))\n",
        "    # forecast the next day\n",
        "    yhat = model.predict(input_x, verbose=0)\n",
        "    # we only want the vector forecast\n",
        "    yhat = yhat[0]\n",
        "    return yhat"
      ],
      "id": "matched-committee"
    },
    {
      "cell_type": "code",
      "execution_count": null,
      "metadata": {
        "id": "several-arabic"
      },
      "outputs": [],
      "source": [
        "# evaluate a single model\n",
        "def evaluate_model(train, test, n_input):\n",
        "    # fit model\n",
        "    model = build_model_encdec(train, n_input)\n",
        "    # history is a list of weekly data\n",
        "    history = [x for x in train]\n",
        "    # walk-forward validation over each day\n",
        "    predictions = list()\n",
        "    for i in range(len(test)):\n",
        "        # predict the next day\n",
        "        yhat_sequence = forecast_multi(model, history, n_input)\n",
        "        # store the predictions\n",
        "        predictions.append(yhat_sequence)\n",
        "        # get real observation and add to history for predicting the next days\n",
        "        history.append(test[i, :])\n",
        "    # evaluate predictions days\n",
        "    predictions = np.array(predictions)\n",
        "    score, scores = evaluate_forecasts(test[:, :, 0], predictions)\n",
        "    return score, scores, predictions"
      ],
      "id": "several-arabic"
    },
    {
      "cell_type": "code",
      "execution_count": null,
      "metadata": {
        "colab": {
          "base_uri": "https://localhost:8080/"
        },
        "id": "laden-warehouse",
        "outputId": "b6d85e73-8242-43dd-8659-048fbf3f042b"
      },
      "outputs": [
        {
          "output_type": "execute_result",
          "data": {
            "text/plain": [
              "14.61"
            ]
          },
          "metadata": {},
          "execution_count": 108
        }
      ],
      "source": [
        "df_LSTM['DtG_P25'].max()-df_LSTM['DtG_P25'].min()"
      ],
      "id": "laden-warehouse"
    },
    {
      "cell_type": "code",
      "execution_count": null,
      "metadata": {
        "id": "radical-worry"
      },
      "outputs": [],
      "source": [
        "scaler = MinMaxScaler()\n",
        "scaler.fit(df_LSTM)\n",
        "LSTM_scaled = scaler.transform(df_LSTM)"
      ],
      "id": "radical-worry"
    },
    {
      "cell_type": "code",
      "source": [
        "# split into train and test\n",
        "train, test = split_dataset(LSTM_scaled)"
      ],
      "metadata": {
        "id": "dt7teLmcGzDx"
      },
      "id": "dt7teLmcGzDx",
      "execution_count": null,
      "outputs": []
    },
    {
      "cell_type": "code",
      "execution_count": null,
      "metadata": {
        "colab": {
          "base_uri": "https://localhost:8080/"
        },
        "id": "undefined-excitement",
        "outputId": "37fb66b6-53d5-4b96-a4ad-deafedbbd0d6"
      },
      "outputs": [
        {
          "output_type": "stream",
          "name": "stdout",
          "text": [
            "Epoch 1/20\n",
            "250/250 [==============================] - 9s 22ms/step - loss: 0.0185\n",
            "Epoch 2/20\n",
            "250/250 [==============================] - 6s 23ms/step - loss: 0.0013\n",
            "Epoch 3/20\n",
            "250/250 [==============================] - 6s 24ms/step - loss: 8.5419e-04\n",
            "Epoch 4/20\n",
            "250/250 [==============================] - 5s 22ms/step - loss: 6.3623e-04\n",
            "Epoch 5/20\n",
            "250/250 [==============================] - 6s 26ms/step - loss: 6.0729e-04\n",
            "Epoch 6/20\n",
            "250/250 [==============================] - 5s 22ms/step - loss: 5.1031e-04\n",
            "Epoch 7/20\n",
            "250/250 [==============================] - 6s 25ms/step - loss: 4.8389e-04\n",
            "Epoch 8/20\n",
            "250/250 [==============================] - 5s 21ms/step - loss: 4.3183e-04\n",
            "Epoch 9/20\n",
            "250/250 [==============================] - 6s 25ms/step - loss: 4.4428e-04\n",
            "Epoch 10/20\n",
            "250/250 [==============================] - 5s 21ms/step - loss: 3.9173e-04\n",
            "Epoch 11/20\n",
            "250/250 [==============================] - 6s 25ms/step - loss: 4.0035e-04\n",
            "Epoch 12/20\n",
            "250/250 [==============================] - 5s 22ms/step - loss: 3.8691e-04\n",
            "Epoch 13/20\n",
            "250/250 [==============================] - 6s 24ms/step - loss: 3.7227e-04\n",
            "Epoch 14/20\n",
            "250/250 [==============================] - 6s 23ms/step - loss: 3.6025e-04\n",
            "Epoch 15/20\n",
            "250/250 [==============================] - 5s 22ms/step - loss: 3.2678e-04\n",
            "Epoch 16/20\n",
            "250/250 [==============================] - 6s 25ms/step - loss: 3.6962e-04\n",
            "Epoch 17/20\n",
            "250/250 [==============================] - 5s 22ms/step - loss: 3.2497e-04\n",
            "Epoch 18/20\n",
            "250/250 [==============================] - 6s 25ms/step - loss: 3.3388e-04\n",
            "Epoch 19/20\n",
            "250/250 [==============================] - 5s 22ms/step - loss: 3.4699e-04\n",
            "Epoch 20/20\n",
            "250/250 [==============================] - 8s 31ms/step - loss: 3.0701e-04\n"
          ]
        }
      ],
      "source": [
        "# evaluate model and get scores\n",
        "n_input = 30\n",
        "score, scores, predictions = evaluate_model(train, test, n_input)"
      ],
      "id": "undefined-excitement"
    },
    {
      "cell_type": "code",
      "execution_count": null,
      "metadata": {
        "colab": {
          "base_uri": "https://localhost:8080/"
        },
        "id": "formed-theater",
        "outputId": "8769171a-81cf-4f02-8e1c-cb88ed6c4c5e"
      },
      "outputs": [
        {
          "output_type": "stream",
          "name": "stdout",
          "text": [
            "lstm: [0.015] 0.0, 0.0, 0.0, 0.0, 0.0, 0.0, 0.0, 0.0, 0.0, 0.0, 0.0, 0.0, 0.0, 0.0, 0.0, 0.0, 0.0, 0.0, 0.0, 0.0, 0.0, 0.0, 0.0, 0.0, 0.0, 0.0, 0.0, 0.0, 0.0, 0.0\n"
          ]
        }
      ],
      "source": [
        "# summarize scores\n",
        "summarize_scores('lstm', score, scores)"
      ],
      "id": "formed-theater"
    },
    {
      "cell_type": "code",
      "execution_count": null,
      "metadata": {
        "id": "color-morning",
        "colab": {
          "base_uri": "https://localhost:8080/",
          "height": 430
        },
        "outputId": "f694a195-0b05-46a9-beec-6a511ffdd501"
      },
      "outputs": [
        {
          "output_type": "display_data",
          "data": {
            "text/plain": [
              "<Figure size 640x480 with 1 Axes>"
            ],
            "image/png": "[encoded data removed]"
          },
          "metadata": {}
        }
      ],
      "source": [
        "# plot scores\n",
        "plt.plot(scores, marker='o', label='lstm')\n",
        "plt.show()"
      ],
      "id": "color-morning"
    },
    {
      "cell_type": "code",
      "execution_count": null,
      "metadata": {
        "id": "broke-spokesman"
      },
      "outputs": [],
      "source": [
        "m = scaler.data_max_[0] - scaler.data_min_[0]\n",
        "n = scaler.data_min_[0]"
      ],
      "id": "broke-spokesman"
    },
    {
      "cell_type": "code",
      "execution_count": null,
      "metadata": {
        "id": "impossible-friendly"
      },
      "outputs": [],
      "source": [
        "test_rescaled = test[:, :, 0].reshape(-1) * m + n\n",
        "predictions_rescaled = predictions.reshape(-1) * m + n"
      ],
      "id": "impossible-friendly"
    },
    {
      "cell_type": "code",
      "execution_count": null,
      "metadata": {
        "id": "adaptive-exclusion",
        "colab": {
          "base_uri": "https://localhost:8080/",
          "height": 975
        },
        "outputId": "068d7d06-0779-488c-eb0b-20f0912ae108"
      },
      "outputs": [
        {
          "output_type": "display_data",
          "data": {
            "text/plain": [
              "<Figure size 640x480 with 1 Axes>"
            ],
            "image/png": "[encoded data removed]"
          },
          "metadata": {}
        },
        {
          "output_type": "display_data",
          "data": {
            "text/plain": [
              "<Figure size 1000x600 with 1 Axes>"
            ],
            "image/png": "[encoded data removed]"
          },
          "metadata": {}
        }
      ],
      "source": [
        "plt.plot(test_rescaled)\n",
        "plt.plot(predictions_rescaled )\n",
        "dates = pd.date_range(start='2022/06/30', periods=len(test_rescaled))\n",
        "\n",
        "plt.figure(figsize=(10, 6))\n",
        "plt.plot(dates, test_rescaled, label='Actual Data', color='blue')\n",
        "plt.plot(dates, predictions_rescaled, label='Predicted Data', color='orange')\n",
        "\n",
        "plt.xlabel('Predicted each days from 2022/06/30')\n",
        "plt.ylabel('Groundwater Level (m)')\n",
        "plt.legend(loc='upper left')  # Add a legend\n",
        "\n",
        "plt.show()"
      ],
      "id": "adaptive-exclusion"
    },
    {
      "cell_type": "code",
      "execution_count": null,
      "metadata": {
        "id": "mental-cache"
      },
      "outputs": [],
      "source": [
        "RSME = np.sqrt(np.mean((test_rescaled - predictions_rescaled)**2))"
      ],
      "id": "mental-cache"
    },
    {
      "cell_type": "code",
      "source": [
        "RSME"
      ],
      "metadata": {
        "colab": {
          "base_uri": "https://localhost:8080/"
        },
        "id": "S1fK-3DzJ6lj",
        "outputId": "57e0d2f4-ddf3-4925-9bd4-2dea40852def"
      },
      "id": "S1fK-3DzJ6lj",
      "execution_count": null,
      "outputs": [
        {
          "output_type": "execute_result",
          "data": {
            "text/plain": [
              "0.2174991975474167"
            ]
          },
          "metadata": {},
          "execution_count": 118
        }
      ]
    }
  ],
  "metadata": {
    "colab": {
      "provenance": [],
      "include_colab_link": true
    },
    "kernelspec": {
      "display_name": "Python 3",
      "language": "python",
      "name": "python3"
    },
    "language_info": {
      "codemirror_mode": {
        "name": "ipython",
        "version": 3
      },
      "file_extension": ".py",
      "mimetype": "text/x-python",
      "name": "python",
      "nbconvert_exporter": "python",
      "pygments_lexer": "ipython3",
      "version": "3.7.9"
    }
  },
  "nbformat": 4,
  "nbformat_minor": 5
}